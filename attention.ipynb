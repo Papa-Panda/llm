{
  "nbformat": 4,
  "nbformat_minor": 0,
  "metadata": {
    "colab": {
      "provenance": [],
      "authorship_tag": "ABX9TyNMhVDv/fcyh7EkYCXhTuaC",
      "include_colab_link": true
    },
    "kernelspec": {
      "name": "python3",
      "display_name": "Python 3"
    },
    "language_info": {
      "name": "python"
    }
  },
  "cells": [
    {
      "cell_type": "markdown",
      "metadata": {
        "id": "view-in-github",
        "colab_type": "text"
      },
      "source": [
        "<a href=\"https://colab.research.google.com/github/Papa-Panda/llm/blob/main/attention.ipynb\" target=\"_parent\"><img src=\"https://colab.research.google.com/assets/colab-badge.svg\" alt=\"Open In Colab\"/></a>"
      ]
    },
    {
      "cell_type": "code",
      "execution_count": 1,
      "metadata": {
        "id": "vpocN6sYJGrN"
      },
      "outputs": [],
      "source": [
        "# this video is on attentions' implementation\n",
        "# 【手写self-attention的四重境界-part1 pure self-attention】 https://www.bilibili.com/video/BV19YbFeHETz/?share_source=copy_web&vd_source=cdc9fab15e0ce1d464719ce689a12b14"
      ]
    },
    {
      "cell_type": "code",
      "source": [],
      "metadata": {
        "id": "os80UkNbJwv4"
      },
      "execution_count": null,
      "outputs": []
    }
  ]
}