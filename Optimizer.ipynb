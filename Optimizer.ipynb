{
  "nbformat": 4,
  "nbformat_minor": 0,
  "metadata": {
    "colab": {
      "provenance": [],
      "authorship_tag": "ABX9TyMydcdt7C1jm6fsQbT/UwMX",
      "include_colab_link": true
    },
    "kernelspec": {
      "name": "python3",
      "display_name": "Python 3"
    },
    "language_info": {
      "name": "python"
    }
  },
  "cells": [
    {
      "cell_type": "markdown",
      "metadata": {
        "id": "view-in-github",
        "colab_type": "text"
      },
      "source": [
        "<a href=\"https://colab.research.google.com/github/Papa-Panda/llm/blob/main/Optimizer.ipynb\" target=\"_parent\"><img src=\"https://colab.research.google.com/assets/colab-badge.svg\" alt=\"Open In Colab\"/></a>"
      ]
    },
    {
      "cell_type": "code",
      "execution_count": 1,
      "metadata": {
        "id": "MGfNNXMWN_Bk"
      },
      "outputs": [],
      "source": [
        "# 十分钟搞明白Adam和AdamW，SGD，Momentum，RMSProp，Adam，AdamW\n",
        "# https://www.bilibili.com/video/BV1NZ421s75D/?spm_id_from=333.788.recommend_more_video.1&vd_source=1fecee762931e992c96e5e166be13b76"
      ]
    },
    {
      "cell_type": "code",
      "source": [],
      "metadata": {
        "id": "olpeKz3-ODxl"
      },
      "execution_count": null,
      "outputs": []
    }
  ]
}